{
 "cells": [
  {
   "cell_type": "code",
   "execution_count": 1,
   "id": "d89d5bc7-890e-49e9-a262-079ebcbc933d",
   "metadata": {},
   "outputs": [],
   "source": [
    "import psycopg2 as pg2"
   ]
  },
  {
   "cell_type": "code",
   "execution_count": 2,
   "id": "931f1586-a745-42e7-b598-0e5c3560fcdd",
   "metadata": {},
   "outputs": [],
   "source": [
    "conn = pg2.connect(database = 'school', user = 'postgres', password=None)"
   ]
  },
  {
   "cell_type": "code",
   "execution_count": 3,
   "id": "9d38afb9-c422-481e-801e-2876fadf62fe",
   "metadata": {},
   "outputs": [],
   "source": [
    "cur = conn.cursor()"
   ]
  },
  {
   "cell_type": "code",
   "execution_count": 4,
   "id": "ef69ec0e-6bff-4ff6-89cd-f35c92f7e943",
   "metadata": {},
   "outputs": [],
   "source": [
    "# query = \"\"\"CREATE TABLE psycopg2_table_creation (\n",
    "#         id SERIAL PRIMARY KEY, \n",
    "#         curr_company VARCHAR(30) UNIQUE NOT NULL, \n",
    "#         salary_package INTEGER UNIQUE NOT NULL\n",
    "#     )\"\"\"\n",
    "\n",
    "# cur.execute(query)\n",
    "\n",
    "# conn.commit()"
   ]
  },
  {
   "cell_type": "code",
   "execution_count": 5,
   "id": "0f88734e-93e8-48b9-91de-f40dcc8739c6",
   "metadata": {},
   "outputs": [],
   "source": [
    "query2 = \"\"\"INSERT into psycopg2_table_creation(curr_company, salary_package)\n",
    "            values \n",
    "            ('Visa', 15),\n",
    "            ('Amazon', 27),\n",
    "            ('Google', 37),\n",
    "            ('Microsoft', 47),\n",
    "            ('Apple', 57)\"\"\"\n",
    "\n",
    "cur.execute(query2)\n",
    "\n",
    "conn.commit()"
   ]
  },
  {
   "cell_type": "code",
   "execution_count": 6,
   "id": "4aad7813-c9fb-47bb-b0da-81b154c94623",
   "metadata": {},
   "outputs": [],
   "source": [
    "query3 = \"select * from psycopg2_table_creation\"\n",
    "\n",
    "cur.execute(query3)"
   ]
  },
  {
   "cell_type": "code",
   "execution_count": 7,
   "id": "e6926157-d692-4679-ab1a-570196bb52b3",
   "metadata": {},
   "outputs": [
    {
     "name": "stdout",
     "output_type": "stream",
     "text": [
      "(6, 'Visa', 15)\n",
      "(7, 'Amazon', 27)\n",
      "(8, 'Google', 37)\n",
      "(9, 'Microsoft', 47)\n",
      "(10, 'Apple', 57)\n"
     ]
    }
   ],
   "source": [
    "datas = cur.fetchall()\n",
    "\n",
    "for data in datas:\n",
    "    print(data)"
   ]
  },
  {
   "cell_type": "code",
   "execution_count": null,
   "id": "45539c2a-6992-4dd6-9595-6d9bf4f3dd22",
   "metadata": {},
   "outputs": [],
   "source": []
  }
 ],
 "metadata": {
  "kernelspec": {
   "display_name": "Python 3 (ipykernel)",
   "language": "python",
   "name": "python3"
  },
  "language_info": {
   "codemirror_mode": {
    "name": "ipython",
    "version": 3
   },
   "file_extension": ".py",
   "mimetype": "text/x-python",
   "name": "python",
   "nbconvert_exporter": "python",
   "pygments_lexer": "ipython3",
   "version": "3.11.3"
  }
 },
 "nbformat": 4,
 "nbformat_minor": 5
}
