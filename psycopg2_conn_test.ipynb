{
 "cells": [
  {
   "cell_type": "code",
   "execution_count": 1,
   "id": "f007a8bf-ec2b-44e3-b061-513b70e4ff8f",
   "metadata": {},
   "outputs": [],
   "source": [
    "import psycopg2 as pg2"
   ]
  },
  {
   "cell_type": "code",
   "execution_count": 2,
   "id": "7b79d3e3-f6a2-4fae-9f1f-5a3f224fe346",
   "metadata": {},
   "outputs": [],
   "source": [
    "conn = pg2.connect(database = 'dvdrental', user = 'postgres', password=None)"
   ]
  },
  {
   "cell_type": "code",
   "execution_count": 3,
   "id": "a485f4f4-3eea-4d64-a763-138ec4f3f13e",
   "metadata": {},
   "outputs": [
    {
     "name": "stdout",
     "output_type": "stream",
     "text": [
      "<connection object at 0x105f1d7e0; dsn: 'user=postgres dbname=dvdrental', closed: 0>\n"
     ]
    }
   ],
   "source": [
    "print(conn)"
   ]
  },
  {
   "cell_type": "code",
   "execution_count": 4,
   "id": "e26627e4-d3f9-4660-9fae-58895b8aa49f",
   "metadata": {},
   "outputs": [],
   "source": [
    "cur = conn.cursor()"
   ]
  },
  {
   "cell_type": "code",
   "execution_count": 5,
   "id": "dbc329e6-337a-4c09-b13f-83fb5ad17bd4",
   "metadata": {},
   "outputs": [],
   "source": [
    "cur.execute('SELECT * from payment order by payment_id ASC limit 10')"
   ]
  },
  {
   "cell_type": "code",
   "execution_count": 6,
   "id": "abd01c1e-38cd-40ba-b4a7-774165102f1f",
   "metadata": {},
   "outputs": [
    {
     "data": {
      "text/plain": [
       "(Column(name='payment_id', type_code=23),\n",
       " Column(name='customer_id', type_code=21),\n",
       " Column(name='staff_id', type_code=21),\n",
       " Column(name='rental_id', type_code=23),\n",
       " Column(name='amount', type_code=1700),\n",
       " Column(name='payment_date', type_code=1114))"
      ]
     },
     "execution_count": 6,
     "metadata": {},
     "output_type": "execute_result"
    }
   ],
   "source": [
    "cur.description\n",
    "\n",
    "# This will give OID(Object Identfier) for data type"
   ]
  },
  {
   "cell_type": "code",
   "execution_count": 7,
   "id": "e403f681-abd9-4271-8f27-e2f4c5b74780",
   "metadata": {},
   "outputs": [],
   "source": [
    "# cur.fetchone()"
   ]
  },
  {
   "cell_type": "code",
   "execution_count": 8,
   "id": "3970b2ef-7304-47d8-9823-aff19a03fbf0",
   "metadata": {},
   "outputs": [],
   "source": [
    "# cur.fetchmany(12)"
   ]
  },
  {
   "cell_type": "code",
   "execution_count": 9,
   "id": "e5a87842-00d6-41d1-bd08-80ffba1ca846",
   "metadata": {},
   "outputs": [],
   "source": [
    "# cur.fetchall()"
   ]
  },
  {
   "cell_type": "code",
   "execution_count": 10,
   "id": "89c86cb8-c40e-4505-b2d0-be23a3c1f361",
   "metadata": {},
   "outputs": [
    {
     "name": "stdout",
     "output_type": "stream",
     "text": [
      "(17503, 341, 2, 1520, Decimal('7.99'), datetime.datetime(2007, 2, 15, 22, 25, 46, 996577))\n",
      "(17504, 341, 1, 1778, Decimal('1.99'), datetime.datetime(2007, 2, 16, 17, 23, 14, 996577))\n",
      "(17505, 341, 1, 1849, Decimal('7.99'), datetime.datetime(2007, 2, 16, 22, 41, 45, 996577))\n",
      "(17506, 341, 2, 2829, Decimal('2.99'), datetime.datetime(2007, 2, 19, 19, 39, 56, 996577))\n",
      "(17507, 341, 2, 3130, Decimal('7.99'), datetime.datetime(2007, 2, 20, 17, 31, 48, 996577))\n",
      "(17508, 341, 1, 3382, Decimal('5.99'), datetime.datetime(2007, 2, 21, 12, 33, 49, 996577))\n",
      "(17509, 342, 2, 2190, Decimal('5.99'), datetime.datetime(2007, 2, 17, 23, 58, 17, 996577))\n",
      "(17510, 342, 1, 2914, Decimal('5.99'), datetime.datetime(2007, 2, 20, 2, 11, 44, 996577))\n",
      "(17511, 342, 1, 3081, Decimal('2.99'), datetime.datetime(2007, 2, 20, 13, 57, 39, 996577))\n",
      "(17512, 343, 2, 1547, Decimal('4.99'), datetime.datetime(2007, 2, 16, 0, 10, 50, 996577))\n"
     ]
    }
   ],
   "source": [
    "datas = cur.fetchall()\n",
    "\n",
    "for data in datas:\n",
    "    print(data)"
   ]
  },
  {
   "cell_type": "code",
   "execution_count": 11,
   "id": "10829552-41b4-4873-8a98-afd3cbbb40f3",
   "metadata": {},
   "outputs": [
    {
     "name": "stdout",
     "output_type": "stream",
     "text": [
      "payment_id: int4\n",
      "customer_id: int2\n",
      "staff_id: int2\n",
      "rental_id: int4\n",
      "amount: numeric\n",
      "payment_date: timestamp\n"
     ]
    }
   ],
   "source": [
    "columns = [(desc[0], desc[1]) for desc in cur.description]\n",
    "\n",
    "# Query PostgreSQL's `pg_type` system catalog to get actual type names\n",
    "cur.execute(\"SELECT oid, typname FROM pg_type\")\n",
    "type_map = dict(cur.fetchall())  # Creates a dictionary {OID: 'type_name'}\n",
    "\n",
    "# Print column names with their actual PostgreSQL type\n",
    "for col_name, type_code in columns:\n",
    "    print(f\"{col_name}: {type_map.get(type_code, 'Unknown Type')}\")"
   ]
  },
  {
   "cell_type": "code",
   "execution_count": 12,
   "id": "fa94de08-f016-43f3-a8be-df617a2890bc",
   "metadata": {},
   "outputs": [],
   "source": [
    "conn.close()"
   ]
  },
  {
   "cell_type": "code",
   "execution_count": null,
   "id": "3897eac4-0290-4956-bad1-d26a51c2728e",
   "metadata": {},
   "outputs": [],
   "source": []
  }
 ],
 "metadata": {
  "kernelspec": {
   "display_name": "Python 3 (ipykernel)",
   "language": "python",
   "name": "python3"
  },
  "language_info": {
   "codemirror_mode": {
    "name": "ipython",
    "version": 3
   },
   "file_extension": ".py",
   "mimetype": "text/x-python",
   "name": "python",
   "nbconvert_exporter": "python",
   "pygments_lexer": "ipython3",
   "version": "3.11.3"
  }
 },
 "nbformat": 4,
 "nbformat_minor": 5
}
